{
 "cells": [
  {
   "cell_type": "markdown",
   "metadata": {},
   "source": [
    "# Web Analytics(DATA620) - Assignment 2 (Part-2)\n",
    "\n",
    "June 17 2018\n",
    "\n",
    "#### Group 3 Members:\n",
    "\n",
    "* Rafal Decowski \n",
    "\n",
    "* Tze Fung Lung  \n",
    "\n",
    "* Yun Mai\n",
    "\n",
    "* Ahsanul Choudhury\n",
    "\n",
    "\n",
    "**The requirements of this assignment:**\n",
    "\n",
    "The main goal of this assignment is to use centrality measures to predict (positive or negative) outcomes for a node. \n",
    "\n",
    "1. Identify an interesting set of network data that is available on the web (either through web scraping or web APIs) that could be used for analyzing and comparing centrality measures across nodes. \n",
    "\n",
    "2. As an additional constraint, there should be at least one categorical variable available for each node (such as “Male” or “Female”; “Republican”, “Democrat,” or “Undecided”, etc.)\n",
    "\n",
    "\n",
    "### data obtainment \n",
    "\n",
    "In this assignment, we scrapped the text from the list of Harry Potter characters from wikipedia (https://en.wikipedia.org/wiki/List_of_Harry_Potter_characters) and extract the character relationhsips using NLTK module. We will group the characters into good and evil based on the character affilication data scrapped from wiki(https://en.wikipedia.org/wiki/Death_Eater, https://en.wikipedia.org/wiki/Order_of_the_Phoenix_(fictional_organisation))and Harry Porter Wiki(http://harrypotter.wikia.com/wiki/Lee_Jordan)\n",
    "\n",
    "We created three data sets: \n",
    "* main character names: https://raw.githubusercontent.com/YunMai-SPS/DATA620_homework/master/DATA620_homework_2/nodes.csv \n",
    "* character relationships: https://raw.githubusercontent.com/YunMai-SPS/DATA620_homework/master/DATA620_homework_2/edges.csv\n",
    "* affiliation of each character: https://raw.githubusercontent.com/YunMai-SPS/DATA620_homework/master/DATA620_homework_2/affiliation.csv\n",
    "\n",
    "The character will be marked as either good or evil based on their affiliations. If a person who was a member of Dumbledore’s Army or acted as Dumbledore’s Army allies, he/she will be a good guy. Similarly, the people who were a signed member of the Order of Phoenix is good even though there were several previous members betraied the Order of Phoenix and worked for the villain later. The Death Eaters are bad guys in the fiction and they will be marked as evil. There are some characters like Muggles, goblins, governors, animals are neither good nor bad. We mark them as ambiguous. \n",
    "\n",
    "### Hypothesis: \n",
    "\n",
    "The good and evil will form two groups. The two groups will form two subgraphs surrounding the person with the highest centrality in each group. We will see who are the most influential characters in the fiction. By social network graph, we will be able to see the communities like Weasleys, Dursleys and who are best friends. We will also take a look at Whether the community bridge is the spy? We also anticipate the nodes that belong to more than one group will have higher degree centrality on average than the nodes that belong to only one group.\n",
    "\n",
    "### Approach:\n",
    "\n",
    "The data will be download and the nodes will the affiliation will be assigned to each character to marked them into four groups. We will use the data from edges.csv to draw graphs and conduct the analysis using NetworkX module. For each of the nodes in the dataset, degree centrality and eigenvector centrality will be calculated. We will measure and compare:\n",
    "\n",
    "* degree of nodes\n",
    "\n",
    "* degree centrality: whether a node with high degree points to a high centrality of that node in the overall network. \n",
    "\n",
    "* betweeness centrality: check whethere there is some nodes with high betweenness who fulfill the brokerage position in the network. \n",
    "\n",
    "***Reference***\n",
    "http://historicaldataninjas.com/community-detection/\n",
    "\n"
   ]
  }
 ],
 "metadata": {
  "kernelspec": {
   "display_name": "Python [conda env:Anaconda3]",
   "language": "python",
   "name": "conda-env-Anaconda3-py"
  },
  "language_info": {
   "codemirror_mode": {
    "name": "ipython",
    "version": 3.0
   },
   "file_extension": ".py",
   "mimetype": "text/x-python",
   "name": "python",
   "nbconvert_exporter": "python",
   "pygments_lexer": "ipython3",
   "version": "3.6.3"
  }
 },
 "nbformat": 4,
 "nbformat_minor": 0
}