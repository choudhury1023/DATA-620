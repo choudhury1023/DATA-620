{
 "cells": [
  {
   "cell_type": "markdown",
   "metadata": {},
   "source": [
    "# DATA 620\n",
    "## Assignment Week 1\n",
    "\n",
    "\n",
    "*Ahsanul Choudhury*\n",
    "\n",
    "Youtube Link: https://www.youtube.com/watch?v=cmuUnMdauf0"
   ]
  },
  {
   "cell_type": "code",
   "execution_count": 2,
   "metadata": {
    "collapsed": true
   },
   "outputs": [],
   "source": [
    "# Import module\n",
    "import networkx as nx\n",
    "import matplotlib.pyplot as plt"
   ]
  },
  {
   "cell_type": "code",
   "execution_count": 6,
   "metadata": {},
   "outputs": [
    {
     "data": {
      "image/png": "[encoded data removed]",
      "text/plain": [
       "<matplotlib.figure.Figure at 0x909c290>"
      ]
     },
     "metadata": {},
     "output_type": "display_data"
    }
   ],
   "source": [
    "%matplotlib inline\n",
    "\n",
    "# Create empty graph\n",
    "G=nx.Graph()\n",
    "\n",
    "# create edges\n",
    "G.add_edge('Andre','Beverly')\n",
    "G.add_edge('Andre','Carol')\n",
    "G.add_edge('Andre','Diane')\n",
    "G.add_edge('Beverly','Andre')\n",
    "G.add_edge('Beverly','Diane')\n",
    "G.add_edge('Beverly','Ed')\n",
    "G.add_edge('Carol','Andre')\n",
    "G.add_edge('Carol','Diane')\n",
    "G.add_edge('Carol','Fernando')\n",
    "G.add_edge('Fernando','Carol')\n",
    "G.add_edge('Fernando','Diane')\n",
    "G.add_edge('Fernando','Garth')\n",
    "G.add_edge('Garth','Diane')\n",
    "G.add_edge('Garth','Ed')\n",
    "G.add_edge('Garth','Fernando')\n",
    "G.add_edge('Garth','Heather')\n",
    "G.add_edge('Ed','Beverly')\n",
    "G.add_edge('Ed','Diane')\n",
    "G.add_edge('Ed','Garth')\n",
    "G.add_edge('Heather','Fernando')\n",
    "G.add_edge('Heather','Garth')\n",
    "G.add_edge('Heather','Ike')\n",
    "G.add_edge('Ike','Heather')\n",
    "G.add_edge('Ike','Jane')\n",
    "G.add_edge('Jane','Ike')\n",
    "\n",
    "# Set node positions\n",
    "pos={'Andre':(0,1),\n",
    "     'Beverly':(0,-1),\n",
    "     'Carol':(1,2),\n",
    "     'Diane':(1,0),\n",
    "     'Ed':(1,-2),\n",
    "     'Ike':(4,0),\n",
    "     'Garth':(2,-1),\n",
    "     'Jane':(5,0),\n",
    "     'Fernando':(2,1),\n",
    "     'Heather':(3,0)}\n",
    "\n",
    "\n",
    "# Nodes\n",
    "nx.draw_networkx_nodes(G,pos,node_size=1200, node_shape=\"s\", node_color='gray')\n",
    "\n",
    "# Edges\n",
    "nx.draw_networkx_edges(G,pos,alpha=0.5,width=4, edge_color='purple')\n",
    "\n",
    "# labels\n",
    "nx.draw_networkx_labels(G,pos,font_size=12,font_family='Arial')\n",
    "\n",
    "# Figure size\n",
    "plt.rcParams[\"figure.figsize\"] = (12,6)\n",
    "\n",
    "# Hide plot axis\n",
    "plt.axis('off')\n",
    "\n",
    "# Display plot\n",
    "plt.show()"
   ]
  },
  {
   "cell_type": "markdown",
   "metadata": {},
   "source": [
    "## Reference\n",
    "\n",
    "https://networkx.github.io/documentation/networkx-1.10/tutorial/tutorial.html\n",
    "\n",
    "https://stackoverflow.com/questions/44801216/is-it-possible-to-mix-different-shaped-nodes-in-a-networkx-graph"
   ]
  }
 ],
 "metadata": {
  "kernelspec": {
   "display_name": "Python 2",
   "language": "python",
   "name": "python2"
  },
  "language_info": {
   "codemirror_mode": {
    "name": "ipython",
    "version": 2
   },
   "file_extension": ".py",
   "mimetype": "text/x-python",
   "name": "python",
   "nbconvert_exporter": "python",
   "pygments_lexer": "ipython2",
   "version": "2.7.13"
  }
 },
 "nbformat": 4,
 "nbformat_minor": 2
}
